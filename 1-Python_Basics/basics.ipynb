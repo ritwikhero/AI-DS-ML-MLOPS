{
 "cells": [
  {
   "cell_type": "code",
   "execution_count": 5,
   "id": "6becbe3d",
   "metadata": {},
   "outputs": [
    {
     "data": {
      "text/plain": [
       "'multi line comment'"
      ]
     },
     "execution_count": 5,
     "metadata": {},
     "output_type": "execute_result"
    }
   ],
   "source": [
    "'''multi line comment'''\n",
    "## single line comment"
   ]
  },
  {
   "cell_type": "markdown",
   "id": "2100112c",
   "metadata": {},
   "source": [
    "Indentation"
   ]
  },
  {
   "cell_type": "code",
   "execution_count": 1,
   "id": "399fe4ad",
   "metadata": {},
   "outputs": [
    {
     "name": "stdout",
     "output_type": "stream",
     "text": [
      "age is  26\n"
     ]
    }
   ],
   "source": [
    "age = 26\n",
    "\n",
    "if age >= 20:\n",
    "    print(\"age is \", age)\n",
    "else:\n",
    "    print(\"age is less than 20\")\n",
    "    "
   ]
  },
  {
   "cell_type": "markdown",
   "id": "abb72891",
   "metadata": {},
   "source": [
    "Python is Case Sensitive"
   ]
  },
  {
   "cell_type": "code",
   "execution_count": null,
   "id": "087cb578",
   "metadata": {},
   "outputs": [
    {
     "name": "stdout",
     "output_type": "stream",
     "text": [
      "Ritwik Singh\n"
     ]
    }
   ],
   "source": [
    "name = \"Ritwik\"\n",
    "Name = \"Singh\"\n",
    "\n",
    "print(name, Name)"
   ]
  },
  {
   "cell_type": "code",
   "execution_count": 7,
   "id": "5620b647",
   "metadata": {},
   "outputs": [
    {
     "name": "stdout",
     "output_type": "stream",
     "text": [
      "210\n"
     ]
    }
   ],
   "source": [
    "## Line continuation\n",
    "\n",
    "total = 1+2+3+4+5+6+7+8+9+10+11\\\n",
    "        +12+13+14+15+16+17+18+19+20\n",
    "\n",
    "print(total)"
   ]
  }
 ],
 "metadata": {
  "kernelspec": {
   "display_name": "Python 3",
   "language": "python",
   "name": "python3"
  },
  "language_info": {
   "codemirror_mode": {
    "name": "ipython",
    "version": 3
   },
   "file_extension": ".py",
   "mimetype": "text/x-python",
   "name": "python",
   "nbconvert_exporter": "python",
   "pygments_lexer": "ipython3",
   "version": "3.12.12"
  }
 },
 "nbformat": 4,
 "nbformat_minor": 5
}
