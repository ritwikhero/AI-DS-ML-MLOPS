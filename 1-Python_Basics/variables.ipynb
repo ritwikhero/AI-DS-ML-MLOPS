{
 "cells": [
  {
   "cell_type": "code",
   "execution_count": 1,
   "id": "92f41d91",
   "metadata": {},
   "outputs": [
    {
     "name": "stdout",
     "output_type": "stream",
     "text": [
      "32\n",
      "Ritwik\n",
      "6.4\n",
      "True\n"
     ]
    }
   ],
   "source": [
    "## declaring adn assigning variables\n",
    "age = 32\n",
    "name = \"Ritwik\"\n",
    "height = 6.4\n",
    "is_Student = True;\n",
    "\n",
    "## printing variables\n",
    "print(age)\n",
    "print(name)\n",
    "print(height)\n",
    "print(is_Student)"
   ]
  },
  {
   "cell_type": "code",
   "execution_count": null,
   "id": "19bd4cda",
   "metadata": {},
   "outputs": [],
   "source": [
    "#Naming conventions\n",
    "##snake_case\n",
    "##camelCase\n",
    "##PascalCase\n",
    "## variable names should be descriptive\n",
    "## variable names should start with a letter or _ and contain number, letter and _\n",
    "\n",
    "## valid variable names\n",
    "myName = \"Ritwik\" #str\n",
    "my_age = 32 #int\n",
    "my_height = 6.4 #float\n",
    "my_isStudent = True #bool\n",
    "\n",
    "## invalid variable names\n",
    "# 1myName = \"Ritwik\"\n",
    "# my-age = 32\n",
    "# my height = 6.4\n",
    "# my isStudent = True\n",
    "\n",
    "# pyhthon is dynamically typed and the type of a variable is deterimed at runtime\n",
    "\n"
   ]
  },
  {
   "cell_type": "code",
   "execution_count": 2,
   "id": "7c818949",
   "metadata": {},
   "outputs": [
    {
     "name": "stdout",
     "output_type": "stream",
     "text": [
      "<class 'int'>\n",
      "<class 'str'>\n",
      "<class 'float'>\n",
      "<class 'int'>\n"
     ]
    }
   ],
   "source": [
    "#Type checking and conversion\n",
    "\n",
    "a =25 \n",
    "\n",
    "print(type(a))\n",
    "\n",
    "a = str(a)\n",
    "print(type(a))\n",
    "\n",
    "a = float(a)\n",
    "print(type(a))\n",
    "\n",
    "a = int(a)\n",
    "print(type(a))"
   ]
  },
  {
   "cell_type": "code",
   "execution_count": 3,
   "id": "d18d4afd",
   "metadata": {},
   "outputs": [
    {
     "name": "stdout",
     "output_type": "stream",
     "text": [
      "25 <class 'int'>\n",
      "Ritwik <class 'str'>\n",
      "6.4 <class 'float'>\n",
      "True <class 'bool'>\n"
     ]
    }
   ],
   "source": [
    "#dynamic typing\n",
    "#python allows you to change the type of a variable as the progrm executes\n",
    "var = 25 #int\n",
    "print(var,type(var))\n",
    "\n",
    "var = \"Ritwik\" #str\n",
    "print(var,type(var))\n",
    "\n",
    "var = 6.4 #float\n",
    "print(var,type(var))\n",
    "\n",
    "var = True #bool\n",
    "print(var,type(var))"
   ]
  },
  {
   "cell_type": "code",
   "execution_count": 5,
   "id": "fe909034",
   "metadata": {},
   "outputs": [
    {
     "name": "stdout",
     "output_type": "stream",
     "text": [
      "26 <class 'int'>\n"
     ]
    }
   ],
   "source": [
    "#input \n",
    "# age = input(\"Enter your age\")\n",
    "age = int(input(\"Enter your age\"))\n",
    "print(age,type(age))\n"
   ]
  },
  {
   "cell_type": "code",
   "execution_count": 7,
   "id": "0d6c0bf2",
   "metadata": {},
   "outputs": [
    {
     "name": "stdout",
     "output_type": "stream",
     "text": [
      "10 20\n",
      "30\n",
      "-10\n",
      "200\n",
      "0.5\n"
     ]
    }
   ],
   "source": [
    "#simple  calculator\n",
    "\n",
    "num1 = int(input(\"Enter first number\"))\n",
    "num2 = int(input(\"Enter second number\"))\n",
    "print(num1,num2)\n",
    "\n",
    "add = num1 + num2\n",
    "sub = num1 - num2\n",
    "mul = num1 * num2\n",
    "div = num1 / num2\n",
    "\n",
    "print(add)\n",
    "print(sub)\n",
    "print(mul)\n",
    "print(div)"
   ]
  }
 ],
 "metadata": {
  "kernelspec": {
   "display_name": "Python 3",
   "language": "python",
   "name": "python3"
  },
  "language_info": {
   "codemirror_mode": {
    "name": "ipython",
    "version": 3
   },
   "file_extension": ".py",
   "mimetype": "text/x-python",
   "name": "python",
   "nbconvert_exporter": "python",
   "pygments_lexer": "ipython3",
   "version": "3.12.12"
  }
 },
 "nbformat": 4,
 "nbformat_minor": 5
}
