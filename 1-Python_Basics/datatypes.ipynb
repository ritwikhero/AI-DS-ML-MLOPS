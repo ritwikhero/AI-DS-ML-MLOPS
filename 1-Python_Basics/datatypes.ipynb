{
 "cells": [
  {
   "cell_type": "markdown",
   "id": "c0362bc3",
   "metadata": {},
   "source": [
    "🧠 What are Data Types?\n",
    "\n",
    "Data types define the kind of value a variable can hold and what operations can be performed on it.\n",
    "\n",
    "They help Python understand how to store and process data efficiently.\n",
    "\n",
    "\n",
    "⚙️ Importance\n",
    "\n",
    "Ensures correct memory allocation.\n",
    "\n",
    "Helps avoid type errors in operations.\n",
    "\n",
    "Makes code clearer and easier to debug.\n"
   ]
  },
  {
   "cell_type": "markdown",
   "id": "a466f8ec",
   "metadata": {},
   "source": []
  },
  {
   "cell_type": "markdown",
   "id": "22472b9b",
   "metadata": {},
   "source": [
    "1. Basic Data Types\n",
    "\n",
    "| Type      | Example         | Description                           |\n",
    "| --------- | --------------- | ------------------------------------- |\n",
    "| `int`     | `10`            | Whole numbers                         |\n",
    "| `float`   | `3.14`          | Decimal numbers                       |\n",
    "| `complex` | `2 + 3j`        | Numbers with real and imaginary parts |\n",
    "| `bool`    | `True`, `False` | Logical values                        |\n",
    "| `str`     | `\"Hello\"`       | Sequence of characters                |\n"
   ]
  },
  {
   "cell_type": "markdown",
   "id": "5c964056",
   "metadata": {},
   "source": [
    "2. Sequence Data Types\n",
    "\n",
    "| Type    | Example     | Description         |\n",
    "| ------- | ----------- | ------------------- |\n",
    "| `list`  | `[1, 2, 3]` | Ordered, mutable    |\n",
    "| `tuple` | `(1, 2, 3)` | Ordered, immutable  |\n",
    "| `range` | `range(5)`  | Sequence of numbers |\n"
   ]
  },
  {
   "cell_type": "markdown",
   "id": "2a654a21",
   "metadata": {},
   "source": [
    "3. Set Data Types\n",
    "\n",
    "| Type        | Example                | Description                |\n",
    "| ----------- | ---------------------- | -------------------------- |\n",
    "| `set`       | `{1, 2, 3}`            | Unordered, unique elements |\n",
    "| `frozenset` | `frozenset({1, 2, 3})` | Immutable set              |\n"
   ]
  },
  {
   "cell_type": "markdown",
   "id": "206d984f",
   "metadata": {},
   "source": [
    "4. Mapping Data Type\n",
    "\n",
    "| Type   | Example                         | Description     |\n",
    "| ------ | ------------------------------- | --------------- |\n",
    "| `dict` | `{\"name\": \"Ritwik\", \"age\": 27}` | Key–value pairs |\n"
   ]
  },
  {
   "cell_type": "markdown",
   "id": "0b44bfe9",
   "metadata": {},
   "source": [
    "5. None Type\n",
    "\n",
    "| Type       | Example | Description                |\n",
    "| ---------- | ------- | -------------------------- |\n",
    "| `NoneType` | `None`  | Represents no value / null |\n"
   ]
  },
  {
   "cell_type": "markdown",
   "id": "883a1017",
   "metadata": {},
   "source": []
  },
  {
   "cell_type": "code",
   "execution_count": null,
   "id": "e7bf4466",
   "metadata": {
    "vscode": {
     "languageId": "plaintext"
    }
   },
   "outputs": [],
   "source": []
  }
 ],
 "metadata": {
  "language_info": {
   "name": "python"
  }
 },
 "nbformat": 4,
 "nbformat_minor": 5
}
